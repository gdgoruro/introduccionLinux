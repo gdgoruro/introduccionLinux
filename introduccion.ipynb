{
 "cells": [
  {
   "cell_type": "markdown",
   "metadata": {},
   "source": [
    "# Introducción a Linux"
   ]
  },
  {
   "cell_type": "markdown",
   "metadata": {},
   "source": [
    "## Qué es Linux\n",
    "Es un Sistema Operativo Open source creado principalmente por Linus Torvals\n",
    "- Windows\n",
    "- Linux\n",
    "- iOS\n",
    "- Android"
   ]
  },
  {
   "cell_type": "markdown",
   "metadata": {},
   "source": [
    "## Distribuciones Linux"
   ]
  },
  {
   "cell_type": "markdown",
   "metadata": {},
   "source": [
    "- Open Suse\n",
    "- Ubuntu\n",
    "- Fedora,\n",
    "- Raspbian\n",
    "- Elementary\n",
    "- Red Hat\n",
    "- Muchos otros más\n",
    "\n",
    "El sistema más utilizado es Ubuntu en su versión 18.04.2 LTS (Long Term Support)"
   ]
  },
  {
   "cell_type": "markdown",
   "metadata": {},
   "source": [
    "## Introducción a Ubuntu"
   ]
  },
  {
   "cell_type": "markdown",
   "metadata": {},
   "source": [
    "### Programas disponibles"
   ]
  },
  {
   "cell_type": "markdown",
   "metadata": {},
   "source": [
    "Windows, 150 USD\n",
    "\n",
    "- Equivalente Microsoft Office, 150 USD\n",
    "\n",
    "Libre Office, \n",
    "\n",
    "- Equivalente Reproductor música\n",
    "\n",
    "Rhytmbox\n",
    "Spotify\n",
    "\n",
    "- Equivalente Photoshop, 120 USD\n",
    "\n",
    "Gimp\n",
    "\n",
    "- Equivalente Autocad, 1400 USD\n",
    "\n",
    "Draftsight\n",
    "\n",
    "- Inventor, 1935 USD\n",
    "\n",
    "Tiene versión en Ubuntu\n",
    "\n",
    "- Edición de video\n",
    "\n",
    "KDenlive\n",
    "\n",
    "- Paint\n",
    "\n",
    "Pinta\n",
    "\n",
    "- Compiladores de código\n",
    "\n",
    "\n",
    "- Equivalente Proteus, 248 USD\n",
    "\n",
    "Eagle CAD\n",
    "\n",
    "- Equivalente Wolfram Mathematica\n",
    "\n",
    "- Editores de Código\n",
    "\n",
    "Sublime\n",
    "Visual Studio Code\n",
    "Atom"
   ]
  },
  {
   "cell_type": "markdown",
   "metadata": {},
   "source": [
    "## Ambientes de trabajo en Ubuntu "
   ]
  },
  {
   "cell_type": "markdown",
   "metadata": {},
   "source": [
    "## Introducción a la  línea de comando"
   ]
  },
  {
   "cell_type": "markdown",
   "metadata": {},
   "source": [
    "```console\n",
    "ls\n",
    "cd\n",
    "cd .\n",
    "touch\n",
    "cp\n",
    "mv\n",
    "rm\n",
    "code nano\n",
    "tail\n",
    "grep\n",
    "sudo apt-get update\n",
    "sudo apt-get purge htop\n",
    "sudo apt-get install htop\n",
    "```"
   ]
  },
  {
   "cell_type": "markdown",
   "metadata": {},
   "source": [
    "### Permisos"
   ]
  },
  {
   "cell_type": "markdown",
   "metadata": {},
   "source": [
    "```\n",
    "ls -l\n",
    "chmod\n",
    "```"
   ]
  },
  {
   "cell_type": "markdown",
   "metadata": {},
   "source": [
    "![title](permisos.png)"
   ]
  },
  {
   "cell_type": "markdown",
   "metadata": {},
   "source": [
    "## Instalar programas"
   ]
  },
  {
   "cell_type": "markdown",
   "metadata": {},
   "source": [
    "- Línea de comando:\n",
    "``` console\n",
    "sudo apt-get install\n",
    "sudo dpkg -i draftsight.deb\n",
    "```\n",
    "- Ubuntu Software Manager"
   ]
  },
  {
   "cell_type": "markdown",
   "metadata": {},
   "source": [
    "## Introducción a Raspbian"
   ]
  },
  {
   "cell_type": "markdown",
   "metadata": {},
   "source": [
    "## Referencias"
   ]
  },
  {
   "cell_type": "markdown",
   "metadata": {},
   "source": [
    "https://codigofacilito.com/cursos/linux"
   ]
  },
  {
   "cell_type": "code",
   "execution_count": null,
   "metadata": {},
   "outputs": [],
   "source": []
  }
 ],
 "metadata": {
  "kernelspec": {
   "display_name": "Python 3",
   "language": "python",
   "name": "python3"
  },
  "language_info": {
   "codemirror_mode": {
    "name": "ipython",
    "version": 3
   },
   "file_extension": ".py",
   "mimetype": "text/x-python",
   "name": "python",
   "nbconvert_exporter": "python",
   "pygments_lexer": "ipython3",
   "version": "3.7.0"
  }
 },
 "nbformat": 4,
 "nbformat_minor": 2
}
